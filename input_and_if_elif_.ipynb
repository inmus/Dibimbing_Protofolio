{
  "nbformat": 4,
  "nbformat_minor": 0,
  "metadata": {
    "colab": {
      "provenance": []
    },
    "kernelspec": {
      "name": "python3",
      "display_name": "Python 3"
    },
    "language_info": {
      "name": "python"
    }
  },
  "cells": [
    {
      "cell_type": "markdown",
      "source": [
        "#Buatlah sebuah program yang:\n",
        "Meminta input dari pengguna:\n",
        "\n",
        "Nama mahasiswa\n",
        "\n",
        "NIM mahasiswa\n",
        "\n",
        "Nilai ujian (dalam angka, 0–100)\n",
        "\n",
        "Cek dan tampilkan tipe data dari setiap input.\n",
        "\n",
        "Gunakan if-elif-else untuk menentukan kategori nilai, dengan kriteria sebagai berikut:"
      ],
      "metadata": {
        "id": "mJsYxSRVb0qk"
      }
    },
    {
      "cell_type": "markdown",
      "source": [
        "Nilai | Kategori\n",
        "\n",
        "85 - 100 | A (Sangat Baik)\n",
        "\n",
        "75 - 84 | B (Baik)\n",
        "\n",
        "60 - 74 | C (Cukup)\n",
        "\n",
        "40 - 59 | D (Kurang)\n",
        "\n",
        "< 40 | E (Sangat Kurang)"
      ],
      "metadata": {
        "id": "ZWxEjEtocINv"
      }
    },
    {
      "cell_type": "markdown",
      "source": [
        "==== Ekspektasi Output Jawaban : =====\n",
        "\n",
        "Masukkan nama mahasiswa: Sarah\n",
        "\n",
        "Masukkan NIM: 12345678\n",
        "\n",
        "Masukkan nilai ujian (0-100): 81\n",
        "\n",
        "Nama: Sarah (type: <class 'str'>)\n",
        "\n",
        "NIM: 12345678 (type: <class 'str'>)\n",
        "\n",
        "Nilai: 81 (type: <class 'int'>)\n",
        "\n",
        "Hasil Evaluasi:\n",
        "\n",
        "Mahasiswa: Sarah (NIM: 12345678)\n",
        "\n",
        "Nilai Ujian: 81\n",
        "\n",
        "Kategori Nilai: B (Baik)"
      ],
      "metadata": {
        "id": "YqODYqvMcFsM"
      }
    },
    {
      "cell_type": "code",
      "source": [
        "nama_mahasiswa = \"Sarah\"\n",
        "nim_mahasiswa = 12345678\n",
        "nilai_ujian = 81"
      ],
      "metadata": {
        "id": "Yxsl1oCZcVPu"
      },
      "execution_count": 3,
      "outputs": []
    },
    {
      "cell_type": "code",
      "source": [
        "print(\"Masukkan nama mahasiswa: \", nama_mahasiswa)\n",
        "print(\"Masukkan NIM: \", nim_mahasiswa)\n",
        "print(\"Masukkan nilai ujian (0-100): \", nilai_ujian)"
      ],
      "metadata": {
        "colab": {
          "base_uri": "https://localhost:8080/"
        },
        "id": "k6zsKss0ctJu",
        "outputId": "0b9a65a9-ad7c-4b1b-e7db-dfdb2bf3a778"
      },
      "execution_count": 4,
      "outputs": [
        {
          "output_type": "stream",
          "name": "stdout",
          "text": [
            "Masukkan nama mahasiswa:  Sarah\n",
            "Masukkan NIM:  12345678\n",
            "Masukkan nilai ujian (0-100):  81\n"
          ]
        }
      ]
    },
    {
      "cell_type": "code",
      "source": [
        "print(\"Nama: \", nama_mahasiswa, f\"(type: {type(nama_mahasiswa)})\")\n",
        "print(\"NIM: \", nim_mahasiswa, f\"(type: {type(nim_mahasiswa)})\")\n",
        "print(\"Nilai: \", nilai_ujian, f\"(type: {type(nilai_ujian)})\")"
      ],
      "metadata": {
        "colab": {
          "base_uri": "https://localhost:8080/"
        },
        "id": "vhEC0pCUcxtk",
        "outputId": "74cfa7b4-8e64-4acd-a662-73a7d1de7a35"
      },
      "execution_count": 5,
      "outputs": [
        {
          "output_type": "stream",
          "name": "stdout",
          "text": [
            "Nama:  Sarah (type: <class 'str'>)\n",
            "NIM:  12345678 (type: <class 'int'>)\n",
            "Nilai:  81 (type: <class 'int'>)\n"
          ]
        }
      ]
    },
    {
      "cell_type": "code",
      "source": [
        "print(f\"Mahasiswa: {nama_mahasiswa} (NIM: {nim_mahasiswa})\")\n",
        "print(f\"Nilai Ujian: {nilai_ujian}\")\n",
        "\n",
        "if nilai_ujian >= 85:\n",
        "    print(\"Kategori Nilai: A (Sangat Baik)\")\n",
        "elif nilai_ujian >= 75:\n",
        "    print(\"Kategori Nilai: B (Baik)\")\n",
        "elif nilai_ujian >= 60:\n",
        "    print(\"Kategori Nilai: C (Cukup)\")\n",
        "elif nilai_ujian >= 40:\n",
        "    print(\"Kategori Nilai: D (Kurang)\")\n",
        "else:\n",
        "    print(\"Kategori Nilai: E (Sangat Kurang)\")"
      ],
      "metadata": {
        "colab": {
          "base_uri": "https://localhost:8080/"
        },
        "id": "uXcxKmBDc4UH",
        "outputId": "cbed1c91-3ca8-48a2-c2bd-8a95642086d1"
      },
      "execution_count": 6,
      "outputs": [
        {
          "output_type": "stream",
          "name": "stdout",
          "text": [
            "Mahasiswa: Sarah (NIM: 12345678)\n",
            "Nilai Ujian: 81\n",
            "Kategori Nilai: B (Baik)\n"
          ]
        }
      ]
    },
    {
      "cell_type": "code",
      "source": [
        "nama_mahasiswa = input(\"Masukkan nama mahasiswa: \")\n",
        "nim_mahasiswa = int(input(\"Masukkan NIM: \"))\n",
        "nilai_ujian = int(input(\"Masukkan nilai ujian (0-100): \"))\n",
        "\n",
        "print(\"Nama: \", nama_mahasiswa, f\"(type: {type(nama_mahasiswa)})\")\n",
        "print(\"NIM: \", nim_mahasiswa, f\"(type: {type(nim_mahasiswa)})\")\n",
        "print(\"Nilai: \", nilai_ujian, f\"(type: {type(nilai_ujian)})\")"
      ],
      "metadata": {
        "colab": {
          "base_uri": "https://localhost:8080/"
        },
        "id": "y8pPGozJc8md",
        "outputId": "9fd16f78-4b95-438f-f658-600d8026b389"
      },
      "execution_count": 11,
      "outputs": [
        {
          "output_type": "stream",
          "name": "stdout",
          "text": [
            "Masukkan nama mahasiswa: indra\n",
            "Masukkan NIM: 114141\n",
            "Masukkan nilai ujian (0-100): 80\n",
            "Nama:  indra (type: <class 'str'>)\n",
            "NIM:  114141 (type: <class 'int'>)\n",
            "Nilai:  80 (type: <class 'int'>)\n"
          ]
        }
      ]
    },
    {
      "cell_type": "code",
      "source": [
        "print(\"Nama: \", nama_mahasiswa, f\"(type: {type(nama_mahasiswa)})\")\n",
        "print(\"NIM: \", nim_mahasiswa, f\"(type: {type(nim_mahasiswa)})\")\n",
        "print(\"Nilai: \", nilai_ujian, f\"(type: {type(nilai_ujian)})\")"
      ],
      "metadata": {
        "colab": {
          "base_uri": "https://localhost:8080/"
        },
        "id": "XpbzWsuSdbvo",
        "outputId": "567f98e0-e602-4bfb-f72f-7e1e20d77c46"
      },
      "execution_count": 12,
      "outputs": [
        {
          "output_type": "stream",
          "name": "stdout",
          "text": [
            "Nama:  indra (type: <class 'str'>)\n",
            "NIM:  114141 (type: <class 'int'>)\n",
            "Nilai:  80 (type: <class 'int'>)\n"
          ]
        }
      ]
    },
    {
      "cell_type": "code",
      "source": [
        "print(f\"Mahasiswa: {nama_mahasiswa} (NIM: {nim_mahasiswa})\")\n",
        "print(f\"Nilai Ujian: {nilai_ujian}\")\n",
        "\n",
        "if nilai_ujian >= 85:\n",
        "    print(\"Kategori Nilai: A (Sangat Baik)\")\n",
        "elif nilai_ujian >= 75:\n",
        "    print(\"Kategori Nilai: B (Baik)\")\n",
        "elif nilai_ujian >= 60:\n",
        "    print(\"Kategori Nilai: C (Cukup)\")\n",
        "elif nilai_ujian >= 40:\n",
        "    print(\"Kategori Nilai: D (Kurang)\")\n",
        "else:\n",
        "    print(\"Kategori Nilai: E (Sangat Kurang)\")"
      ],
      "metadata": {
        "colab": {
          "base_uri": "https://localhost:8080/"
        },
        "id": "TSTDVBdndgpq",
        "outputId": "c9c959de-a92e-406e-d398-b617fa2b34da"
      },
      "execution_count": 13,
      "outputs": [
        {
          "output_type": "stream",
          "name": "stdout",
          "text": [
            "Mahasiswa: indra (NIM: 114141)\n",
            "Nilai Ujian: 80\n",
            "Kategori Nilai: B (Baik)\n"
          ]
        }
      ]
    }
  ]
}